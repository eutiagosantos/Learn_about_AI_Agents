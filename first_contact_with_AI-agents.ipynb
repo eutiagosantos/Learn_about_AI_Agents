{
  "nbformat": 4,
  "nbformat_minor": 0,
  "metadata": {
    "colab": {
      "provenance": []
    },
    "kernelspec": {
      "name": "python3",
      "display_name": "Python 3"
    },
    "language_info": {
      "name": "python"
    }
  },
  "cells": [
    {
      "cell_type": "code",
      "execution_count": null,
      "metadata": {
        "id": "AuE_dxjnanWd"
      },
      "outputs": [],
      "source": [
        "pip install smolagents -U"
      ]
    },
    {
      "cell_type": "code",
      "source": [
        "from huggingface_hub import login\n",
        "login()"
      ],
      "metadata": {
        "id": "3pPaI1kmbw4R"
      },
      "execution_count": null,
      "outputs": []
    },
    {
      "cell_type": "code",
      "source": [
        "from smolagents import CodeAgent, DuckDuckGoSearchTool, HfApiModel\n",
        "\n",
        "agent = CodeAgent(tools=[DuckDuckGoSearchTool()], model=HfApiModel())\n",
        "\n",
        "agent.run(\"Procure as melhores recomendacoes musicais para uma festa brasileira\")"
      ],
      "metadata": {
        "id": "9vyazGMaciZO"
      },
      "execution_count": null,
      "outputs": []
    },
    {
      "cell_type": "code",
      "source": [
        "!pip install langchain"
      ],
      "metadata": {
        "id": "9I69mMu0dtlw"
      },
      "execution_count": null,
      "outputs": []
    },
    {
      "cell_type": "code",
      "source": [
        "!pip install -U langchain-community\n"
      ],
      "metadata": {
        "id": "sWfak_0gi5xI"
      },
      "execution_count": null,
      "outputs": []
    },
    {
      "cell_type": "code",
      "source": [
        "from smolagents.tools import tool\n",
        "from smolagents import CodeAgent, HfApiModel\n",
        "\n",
        "\n",
        "@tool\n",
        "def suggest_menu(occasion: str) -> str:\n",
        "  \"\"\"\n",
        "  Sugere um menu com base na ocasiao.\n",
        "  Args:\n",
        "    occasion (str): O tipo de ocasiao para a festa os valores permitidos são:\n",
        "                    - \"casual\": Menu para uma festa casual.\n",
        "                    - \"formal\": Menu para uma festa formal.\n",
        "                    - \"baile\": Menu para um baile funk.\n",
        "                    - \"custom\": Menu personalizado.\n",
        "  \"\"\"\n",
        "  if occasion == \"casual\" :\n",
        "    return \"Pizza, lanche e bebidas.\"\n",
        "  elif occasion == \"formal\" :\n",
        "    return \"Jantar de 3 pratos com vinho e sobremesa.\"\n",
        "  elif occasion == \"baile\" :\n",
        "    return  \"Dogao com 3 salsichas, ovo de codorna, purê de batata e refrigerante.\"\n",
        "  else :\n",
        "    return \"Menu personalizado.\"\n",
        "\n",
        "\n",
        "\n",
        "agent = CodeAgent(tools=[suggest_menu], model=HfApiModel())\n",
        "agent.run(\"Faça um menu para um baile funk alfred\")\n"
      ],
      "metadata": {
        "id": "DFPojETejJT2",
        "collapsed": true
      },
      "execution_count": null,
      "outputs": []
    },
    {
      "cell_type": "code",
      "source": [
        "from smolagents import CodeAgent, HfApiModel\n",
        "import numpy as np\n",
        "import time\n",
        "import datetime\n",
        "\n",
        "agent = CodeAgent(tools=[], model=HfApiModel(), additional_authorized_imports=['datetime'])\n",
        "\n",
        "agent.run( \"\"\"\n",
        "      Alfredo precisa preparar para o baile funk. Aqui estão as tarefas\n",
        "      1.Comprar as bebidas - 30 minutos\n",
        "      2.Se arrumar (tomar banho, vestir sua roupa) - 60 minutos\n",
        "      3.Comprar os Hot Dogs - 30 minutos\n",
        "      4.Preparar a musica e a playlist - 45 minutos\n",
        "      \"\"\"\n",
        ")"
      ],
      "metadata": {
        "id": "md_hPfVLo6IP"
      },
      "execution_count": null,
      "outputs": []
    },
    {
      "cell_type": "code",
      "source": [
        "agent.push_to_hub('eutiagosantos/AlfredoAgent')"
      ],
      "metadata": {
        "id": "2ySmBN8GqBBO"
      },
      "execution_count": null,
      "outputs": []
    },
    {
      "cell_type": "code",
      "source": [
        "pip install opentelemetry-sdk opentelemetry-exporter-otlp openinference-instrumentation-smolagents"
      ],
      "metadata": {
        "id": "mPvdJwxcq322"
      },
      "execution_count": null,
      "outputs": []
    },
    {
      "cell_type": "code",
      "source": [
        "import os\n",
        "import base64\n",
        "\n",
        "LANGFUSE_PUBLIC_KEY=\"pk-lf-46cd83eb-b294-4ce7-85c2-55bb0860dfd7\"\n",
        "LANGFUSE_SECRET_KEY=\"sk-lf-5db5383b-bcbd-446a-886a-4b521208edb5\"\n",
        "LANGFUSE_AUTH=base64.b64encode(f\"{LANGFUSE_PUBLIC_KEY}:{LANGFUSE_SECRET_KEY}\".encode()).decode()\n",
        "\n",
        "os.environ[\"OTEL_EXPORTER_OTLP_ENDPOINT\"] = \"https://us.cloud.langfuse.com/api/public/otel\" # Região de dados dos EUA\n",
        "os.environ[ \"OTEL_EXPORTER_OTLP_HEADERS\" ] = f\"Autorização=Básico {LANGFUSE_AUTH} \""
      ],
      "metadata": {
        "id": "yL_O69mvq7pX"
      },
      "execution_count": null,
      "outputs": []
    },
    {
      "cell_type": "code",
      "source": [
        "from opentelemetry.sdk.trace import TracerProvider\n",
        "from openinference.instrumentation.smolagents import SmolagentsInstrumentor\n",
        "from opentelemetry.exporter.otlp.proto.grpc.trace_exporter import OTLPSpanExporter\n",
        "from opentelemetry.sdk.trace.export import SimpleSpanProcessor\n",
        "\n",
        "trace_provider = TracerProvider()\n",
        "trace_provider.add_span_processor(SimpleSpanProcessor(OTLPSpanExporter()))\n",
        "SmolagentsInstrumentor().instrument(tracer_provider=trace_provider)"
      ],
      "metadata": {
        "id": "38MT87jgstES"
      },
      "execution_count": null,
      "outputs": []
    },
    {
      "cell_type": "code",
      "source": [
        "from smolagents import CodeAgent, HfApiModel\n",
        "\n",
        "agent=CodeAgent(tools=[], model=HfApiModel())\n",
        "alfredo_agent = agent.from_hub(\"eutiagosantos/AlfredoAgent\")\n",
        "agent.run(\"Procure as melhores recomendacoes musicais para uma festa brasileira, a ideia da festa é um baile funk\")"
      ],
      "metadata": {
        "id": "xgfLC7JNtZiB"
      },
      "execution_count": null,
      "outputs": []
    }
  ]
}